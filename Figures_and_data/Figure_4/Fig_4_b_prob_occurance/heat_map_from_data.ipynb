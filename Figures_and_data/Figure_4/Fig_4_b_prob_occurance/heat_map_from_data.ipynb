{
 "cells": [
  {
   "cell_type": "code",
   "execution_count": null,
   "id": "719dfb2f",
   "metadata": {},
   "outputs": [],
   "source": [
    "import numpy as np\n",
    "import pandas as pd\n",
    "import matplotlib.pyplot as plt"
   ]
  },
  {
   "cell_type": "code",
   "execution_count": null,
   "id": "02a83877",
   "metadata": {},
   "outputs": [],
   "source": [
    "ini_time = 100\n",
    "max_time = 1000000\n",
    "time_step = 100"
   ]
  },
  {
   "cell_type": "code",
   "execution_count": null,
   "id": "8c99e900-0ab7-4a50-a7c5-6ad81ceb8cd3",
   "metadata": {},
   "outputs": [],
   "source": [
    "# Load trajectory data with particle id\n",
    "# The data is saved over two files\n",
    "df1 = pd.read_csv('part_occur_data_RT1.csv')\n",
    "df2 = pd.read_csv('part_occur_data_RT2.csv')\n",
    "df = pd.concat([df1,df2], axis=0, ignore_index=True)"
   ]
  },
  {
   "cell_type": "code",
   "execution_count": null,
   "id": "8eeb6ecb",
   "metadata": {},
   "outputs": [],
   "source": [
    "# construct trajectory list\n",
    "XY = []\n",
    "for file_id in df['id'].unique():\n",
    "    pos_data = df[df['id'] == file_id][['x', 'y']].values\n",
    "    XY.append(pos_data)"
   ]
  },
  {
   "cell_type": "code",
   "execution_count": null,
   "id": "94724aab",
   "metadata": {},
   "outputs": [],
   "source": [
    "# plotting the histogram\n",
    "\n",
    "XY_df = []\n",
    "for arr in XY:\n",
    "    df = pd.DataFrame(arr, columns=['x', 'y'])\n",
    "    XY_df.append(df)\n",
    "XY_arr = pd.concat(XY_df, ignore_index=True).values\n",
    "\n",
    "# Define parameters for histogram and masking\n",
    "bins = 13 # no of bins over an axis\n",
    "radius = 15 # domain radius\n",
    "center_x = 15.0 # domain x-centre\n",
    "center_y = 15.0 # domain y-centre\n",
    "\n",
    "# Compute 2D histogram of the x and y data points\n",
    "# hist2 is a 2D array of probability densities\n",
    "# xedges and yedges are the bin edges\n",
    "hist2, xedges, yedges = np.histogram2d(XY_arr[:,0], XY_arr[:,1], bins=bins, density=True)\n",
    "\n",
    "# Creating 2D meshgrid of bin center coordinates\n",
    "Xc, Yc = np.meshgrid(\n",
    "    0.5*(xedges[:-1]+xedges[1:]),\n",
    "    0.5*(yedges[:-1]+yedges[1:])\n",
    "    )\n",
    "\n",
    "mask = (Xc - center_x)**2 + (Yc - center_y)**2 <= radius**2 # masking region\n",
    "hist_masked = np.where(mask, hist2.T, np.nan) # Apply the mask\n",
    "\n",
    "# histogram plotting\n",
    "plt.imshow(\n",
    "    hist_masked, origin='lower',\n",
    "    extent=[xedges[0], xedges[-1], yedges[0], yedges[-1]],\n",
    "    cmap='inferno_r'\n",
    "    )\n",
    "plt.colorbar(label=\"Probability\")\n",
    "plt.xlabel('x')\n",
    "plt.ylabel('y')\n",
    "plt.title('Exploration Probability Heatmap')\n",
    "plt.savefig(\"Heat_map_prob_RT.png\")\n",
    "plt.show()"
   ]
  },
  {
   "cell_type": "code",
   "execution_count": null,
   "id": "673c108b",
   "metadata": {},
   "outputs": [],
   "source": []
  }
 ],
 "metadata": {
  "kernelspec": {
   "display_name": "Python 3 (ipykernel)",
   "language": "python",
   "name": "python3"
  },
  "language_info": {
   "codemirror_mode": {
    "name": "ipython",
    "version": 3
   },
   "file_extension": ".py",
   "mimetype": "text/x-python",
   "name": "python",
   "nbconvert_exporter": "python",
   "pygments_lexer": "ipython3",
   "version": "3.13.7"
  }
 },
 "nbformat": 4,
 "nbformat_minor": 5
}
