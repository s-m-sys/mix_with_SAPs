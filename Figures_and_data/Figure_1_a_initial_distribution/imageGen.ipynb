{
 "cells": [
  {
   "cell_type": "code",
   "execution_count": null,
   "id": "f9b11a17",
   "metadata": {},
   "outputs": [],
   "source": [
    "import os\n",
    "import pandas as pd\n",
    "import numpy as np\n",
    "import matplotlib.pyplot as plt\n",
    "from bokeh.plotting import output_notebook, figure\n",
    "from bokeh.io import export_png\n",
    "output_notebook()"
   ]
  },
  {
   "cell_type": "code",
   "execution_count": null,
   "id": "61c3d3ff",
   "metadata": {},
   "outputs": [],
   "source": [
    "dfw = pd.read_csv(\"ini_state_q1.csv\", header = 0, delimiter='\\t', names=['x','y','rad','part'])\n",
    "part_type=dfw['part']\n",
    "N_WALL = len((part_type[part_type==0]))\n",
    "N_PASSIVE = len((part_type[part_type==-1]))\n",
    "N_ACTIVE = len((part_type[part_type==1]))\n",
    "ACT_PASS_HALF = int(N_ACTIVE+N_PASSIVE/2)\n",
    "INT_PARTICLES = N_ACTIVE + N_PASSIVE\n",
    "N_TOTAL = INT_PARTICLES + N_WALL\n",
    "df_wall = dfw.iloc[INT_PARTICLES:,:]"
   ]
  },
  {
   "cell_type": "code",
   "execution_count": null,
   "id": "7f2437c1",
   "metadata": {},
   "outputs": [],
   "source": [
    "bwidth=15\n",
    "bheight=bwidth\n",
    "RAD=1"
   ]
  },
  {
   "cell_type": "code",
   "execution_count": null,
   "id": "bba230c4",
   "metadata": {},
   "outputs": [],
   "source": [
    "int_file = \"ini_state_q1.csv\"\n",
    "\n",
    "dfi = pd.read_csv(int_file , header = 0, delimiter='\\t', names=['x','y','rad','part'])\n",
    "df_int = dfi.iloc[:INT_PARTICLES,:]\n",
    "x = np.asarray(df_int['x'])\n",
    "y = np.asarray(df_int['y'])\n",
    "part = np.asarray(df_int['part'])\n",
    "df_int['col']='blue'\n",
    "df_int['col'][:ACT_PASS_HALF]='orange'\n",
    "df_int['col'][:N_ACTIVE]='red'\n",
    "\n",
    "\n",
    "fig = figure(width=1000, height=1000, x_range=(-4*RAD, 2*bwidth+4*RAD), y_range=(-4*RAD, 2*bheight+4*RAD))\n",
    "fig.axis.visible = True\n",
    "fig.circle(df_wall['x'], df_wall['y'], radius=RAD, fill_color=None, line_color='black')\n",
    "fig.xgrid.grid_line_color = None\n",
    "fig.ygrid.grid_line_color = None\n",
    "fig.circle(x, y, radius=RAD, fill_color=df_int['col'], line_color=None)\n",
    "\n",
    "outfile = \"image.png\"\n",
    "export_png(fig, filename=outfile)"
   ]
  },
  {
   "cell_type": "code",
   "execution_count": null,
   "id": "51106ee5",
   "metadata": {},
   "outputs": [],
   "source": []
  },
  {
   "cell_type": "code",
   "execution_count": null,
   "id": "d87176f5",
   "metadata": {},
   "outputs": [],
   "source": []
  }
 ],
 "metadata": {
  "kernelspec": {
   "display_name": "Python 3 (ipykernel)",
   "language": "python",
   "name": "python3"
  },
  "language_info": {
   "codemirror_mode": {
    "name": "ipython",
    "version": 3
   },
   "file_extension": ".py",
   "mimetype": "text/x-python",
   "name": "python",
   "nbconvert_exporter": "python",
   "pygments_lexer": "ipython3",
   "version": "3.10.12"
  }
 },
 "nbformat": 4,
 "nbformat_minor": 5
}
