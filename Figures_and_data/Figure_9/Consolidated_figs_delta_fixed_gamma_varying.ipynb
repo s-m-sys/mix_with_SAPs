{
 "cells": [
  {
   "cell_type": "code",
   "execution_count": null,
   "id": "3dfb5fcf",
   "metadata": {},
   "outputs": [],
   "source": [
    "import numpy as np\n",
    "import pandas as pd\n",
    "import matplotlib.pyplot as plt\n",
    "import os"
   ]
  },
  {
   "cell_type": "code",
   "execution_count": null,
   "id": "e32ae8e5",
   "metadata": {},
   "outputs": [],
   "source": [
    "angles= [2,4,8]"
   ]
  },
  {
   "cell_type": "code",
   "execution_count": null,
   "id": "25943243",
   "metadata": {},
   "outputs": [],
   "source": [
    "try:\n",
    "    os.makedirs(\"opt_figs\",exist_ok=False)\n",
    "    print(\"Directory is created\")\n",
    "except FileExistsError:\n",
    "    print(\"Directory already exist\")"
   ]
  },
  {
   "cell_type": "code",
   "execution_count": null,
   "id": "3779db1b",
   "metadata": {},
   "outputs": [],
   "source": [
    "plt.figure()\n",
    "for angle in angles:\n",
    "    file_name = f\"TSAP_MI_data/pi_{angle}_{5}_MI_vs_Time_avg.csv\"\n",
    "    df = pd.read_csv(file_name, header=0, sep='\\t',names=['time','opt'])\n",
    "    time = df['time']\n",
    "    MI_L = df['opt']\n",
    "    plt.plot(time,MI_L,label=[f'pi/{angle}'])\n",
    "plt.xlim(0,50050)\n",
    "plt.ylim(0,1.10)\n",
    "plt.xlabel('Time')\n",
    "plt.ylabel('Mixing Index')\n",
    "plt.title(f'MI vs Time_delta_5')\n",
    "plt.legend(loc='lower right')\n",
    "plt.savefig(f\"opt_figs/delta_5.png\", dpi=600, bbox_inches='tight')\n",
    "plt.show()\n",
    "plt.close()"
   ]
  },
  {
   "cell_type": "code",
   "execution_count": null,
   "id": "0ce51aa4",
   "metadata": {},
   "outputs": [],
   "source": [
    "plt.figure()\n",
    "for angle in angles:\n",
    "    file_name = f\"TSAP_MI_data/pi_{angle}_{10}_MI_vs_Time_avg.csv\"\n",
    "    df = pd.read_csv(file_name, header=0, sep='\\t',names=['time','opt'])\n",
    "    time = df['time']\n",
    "    MI_L = df['opt']\n",
    "    plt.plot(time,MI_L,label=[f'pi/{angle}'])\n",
    "plt.xlim(0,50050)\n",
    "plt.ylim(0,1.10)\n",
    "plt.xlabel('Time')\n",
    "plt.ylabel('Mixing Index')\n",
    "plt.title(f'MI vs Time_delta_10')\n",
    "plt.legend(loc='lower right')\n",
    "plt.savefig(f\"opt_figs/delta_10.png\", dpi=600, bbox_inches='tight')\n",
    "plt.show()\n",
    "plt.close()"
   ]
  },
  {
   "cell_type": "code",
   "execution_count": null,
   "id": "d3dc8c4d",
   "metadata": {},
   "outputs": [],
   "source": [
    "plt.figure()\n",
    "for angle in angles:\n",
    "    file_name = f\"TSAP_MI_data/pi_{angle}_{20}_MI_vs_Time_avg.csv\"\n",
    "    df = pd.read_csv(file_name, header=0, sep='\\t',names=['time','opt'])\n",
    "    time = df['time']\n",
    "    MI_L = df['opt']\n",
    "    plt.plot(time,MI_L,label=[f'pi/{angle}'])\n",
    "plt.xlim(0,50050)\n",
    "plt.ylim(0,1.10)\n",
    "plt.xlabel('Time')\n",
    "plt.ylabel('Mixing Index')\n",
    "plt.title(f'MI vs Time_delta_20')\n",
    "plt.legend(loc='lower right')\n",
    "plt.savefig(f\"opt_figs/delta_20.png\", dpi=600, bbox_inches='tight')\n",
    "plt.show()\n",
    "plt.close()"
   ]
  },
  {
   "cell_type": "code",
   "execution_count": null,
   "id": "9eddaee6",
   "metadata": {},
   "outputs": [],
   "source": [
    "plt.figure()\n",
    "for angle in angles:\n",
    "    file_name = f\"TSAP_MI_data/pi_{angle}_{30}_MI_vs_Time_avg.csv\"\n",
    "    df = pd.read_csv(file_name, header=0, sep='\\t',names=['time','opt'])\n",
    "    time = df['time']\n",
    "    MI_L = df['opt']\n",
    "    plt.plot(time,MI_L,label=[f'pi/{angle}'])\n",
    "plt.xlim(0,50050)\n",
    "plt.ylim(0,1.10)\n",
    "plt.xlabel('Time')\n",
    "plt.ylabel('Mixing Index')\n",
    "plt.title(f'MI vs Time_delta_30')\n",
    "plt.legend(loc='lower right')\n",
    "plt.savefig(f\"opt_figs/delta_30.png\", dpi=600, bbox_inches='tight')\n",
    "plt.show()\n",
    "plt.close()"
   ]
  },
  {
   "cell_type": "code",
   "execution_count": null,
   "id": "32299860",
   "metadata": {},
   "outputs": [],
   "source": []
  }
 ],
 "metadata": {
  "kernelspec": {
   "display_name": "Python 3 (ipykernel)",
   "language": "python",
   "name": "python3"
  },
  "language_info": {
   "codemirror_mode": {
    "name": "ipython",
    "version": 3
   },
   "file_extension": ".py",
   "mimetype": "text/x-python",
   "name": "python",
   "nbconvert_exporter": "python",
   "pygments_lexer": "ipython3",
   "version": "3.10.12"
  }
 },
 "nbformat": 4,
 "nbformat_minor": 5
}
