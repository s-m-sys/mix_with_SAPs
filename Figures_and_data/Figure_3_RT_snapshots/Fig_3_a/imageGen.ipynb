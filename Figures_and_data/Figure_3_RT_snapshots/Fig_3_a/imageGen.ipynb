{
 "cells": [
  {
   "cell_type": "code",
   "execution_count": null,
   "id": "f9b11a17",
   "metadata": {},
   "outputs": [],
   "source": [
    "import os\n",
    "import pandas as pd\n",
    "import numpy as np\n",
    "import matplotlib.pyplot as plt\n",
    "from bokeh.plotting import output_notebook, figure\n",
    "from bokeh.io import export_png\n",
    "output_notebook()"
   ]
  },
  {
   "cell_type": "code",
   "execution_count": null,
   "id": "61c3d3ff",
   "metadata": {},
   "outputs": [],
   "source": [
    "dfw = pd.read_csv(\"ini_state_q1.txt\", header = None, delimiter='\\t', names=['x','y','rad','theta','speed','part'])\n",
    "N_ACTIVE = (dfw['part']==1).sum()\n",
    "N_PASSIVE = (dfw['part']==-1).sum()\n",
    "N_WALL = (dfw['part']==0).sum()\n",
    "N_INTERIOR = N_ACTIVE+N_PASSIVE\n",
    "PASS_HALF = int(N_PASSIVE/2)\n",
    "df_wall = dfw.iloc[N_INTERIOR:,:]"
   ]
  },
  {
   "cell_type": "code",
   "execution_count": null,
   "id": "7f2437c1",
   "metadata": {},
   "outputs": [],
   "source": [
    "bwidth=15\n",
    "bheight=bwidth\n",
    "RAD=1"
   ]
  },
  {
   "cell_type": "code",
   "execution_count": null,
   "id": "462c8c31",
   "metadata": {},
   "outputs": [],
   "source": [
    "# eps = np.arange(1,51,5)\n",
    "T=[500,5000,15000,50000]"
   ]
  },
  {
   "cell_type": "code",
   "execution_count": null,
   "id": "348f7236",
   "metadata": {},
   "outputs": [],
   "source": [
    "if not os.path.exists(\"images\"):\n",
    "    os.makedirs(\"images\")"
   ]
  },
  {
   "cell_type": "code",
   "execution_count": null,
   "id": "bba230c4",
   "metadata": {},
   "outputs": [],
   "source": [
    "for time in T:\n",
    "    int_file = \"t_{:.2f}.txt\".format(time)\n",
    "\n",
    "    dfi = pd.read_csv(int_file , header = None, delimiter='\\t', names=['x', 'y', 'rad', 'counter', 'part'])\n",
    "    df_int = dfi.iloc[:N_INTERIOR,:]\n",
    "    x = np.asarray(df_int['x'])\n",
    "    y = np.asarray(df_int['y'])\n",
    "    rad = np.asarray(df_int['rad'])\n",
    "    part = np.asarray(df_int['part'])\n",
    "    df_int['col']='blue'\n",
    "    df_int['col'][:N_ACTIVE+PASS_HALF]='orange'\n",
    "    df_int['col'][:N_ACTIVE]='red'\n",
    "\n",
    "\n",
    "    fig = figure(width=1000, height=1000, x_range=(-4*RAD, 2*bwidth+4*RAD), y_range=(-4*RAD, 2*bheight+4*RAD))\n",
    "    fig.axis.visible = True\n",
    "    fig.circle(df_wall['x'], df_wall['y'], radius=RAD, fill_color=None, line_color='black')\n",
    "    fig.xgrid.grid_line_color = None\n",
    "    fig.ygrid.grid_line_color = None\n",
    "    fig.circle(x, y, radius=RAD, fill_color=df_int['col'], line_color=None)\n",
    "\n",
    "\n",
    "    outfile = \"images/Time_{:.2f}.png\".format(time)\n",
    "    export_png(fig, filename=outfile)\n",
    "            "
   ]
  },
  {
   "cell_type": "code",
   "execution_count": null,
   "id": "51106ee5",
   "metadata": {},
   "outputs": [],
   "source": []
  },
  {
   "cell_type": "code",
   "execution_count": null,
   "id": "d87176f5",
   "metadata": {},
   "outputs": [],
   "source": []
  }
 ],
 "metadata": {
  "kernelspec": {
   "display_name": "Python 3 (ipykernel)",
   "language": "python",
   "name": "python3"
  },
  "language_info": {
   "codemirror_mode": {
    "name": "ipython",
    "version": 3
   },
   "file_extension": ".py",
   "mimetype": "text/x-python",
   "name": "python",
   "nbconvert_exporter": "python",
   "pygments_lexer": "ipython3",
   "version": "3.10.12"
  }
 },
 "nbformat": 4,
 "nbformat_minor": 5
}
