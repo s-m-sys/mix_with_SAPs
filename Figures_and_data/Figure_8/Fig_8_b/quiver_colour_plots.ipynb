{
 "cells": [
  {
   "cell_type": "code",
   "execution_count": null,
   "id": "21b6a66e",
   "metadata": {},
   "outputs": [],
   "source": [
    "import pandas as pd\n",
    "import numpy as np\n",
    "import matplotlib.pyplot as plt\n",
    "import matplotlib.colors as mcolors\n",
    "import matplotlib.patches as patches\n",
    "import os\n",
    "\n",
    "particle_id = [9] # identity of the particle starts from 1"
   ]
  },
  {
   "cell_type": "code",
   "execution_count": null,
   "id": "0d5978e6",
   "metadata": {},
   "outputs": [],
   "source": [
    "# To load the initial particle data time=0\n",
    "XY0 = pd.read_csv(f\"ini_state_q1.txt\", header=None, delimiter='\\t', names=['x','y','rad','theta','speed','type'])"
   ]
  },
  {
   "cell_type": "code",
   "execution_count": null,
   "id": "fdd53b3f",
   "metadata": {},
   "outputs": [],
   "source": [
    "for pid in particle_id:\n",
    "    trajectory_df = pd.read_csv(f\"trajectory_{pid}.txt\", header=0, delimiter='\\t', names = ['time','x','y'])\n",
    "    # Converting to DataFrame\n",
    "    x = trajectory_df['x']\n",
    "    y = trajectory_df['y']\n",
    "    TIME = np.array(trajectory_df['time'])\n",
    "\n",
    "    # Computing motion vectors\n",
    "    dx = np.diff(x)\n",
    "    dy = np.diff(y)\n",
    "    x_mid = x[:-1]\n",
    "    y_mid = y[:-1] # No velocity for the last (x,y)\n",
    "    time_mid = TIME[:-1]  # Match shape with dx, dy for coloring\n",
    "\n",
    "    # Normalize and map to colors - Use time_mid instead of TIME\n",
    "    norm = mcolors.Normalize(vmin=TIME.min(), vmax=TIME.max())\n",
    "    cmap = plt.cm.plasma #viridis, plasma, inferno, magma, cividis\n",
    "    colors = cmap(norm(time_mid))  # Use time_mid to match quiver array dimensions\n",
    "\n",
    "    # Creating figure and axes\n",
    "    fig, ax = plt.subplots(figsize=(7, 7))\n",
    "\n",
    "    # Plotting quiver with colored arrows on the axes\n",
    "    q = ax.quiver(x_mid, y_mid, dx, dy, angles='xy', scale_units='xy', scale=1, \n",
    "                  color=colors, width=0.007)\n",
    "\n",
    "    # Setting axes to have equal scaling\n",
    "    ax.set_aspect('equal', adjustable='box')\n",
    "\n",
    "    # Adding a colorbar tied to the axes\n",
    "    sm = plt.cm.ScalarMappable(norm=norm, cmap=cmap)\n",
    "    sm.set_array([])  # Required for colorbar\n",
    "    cbar = fig.colorbar(sm, ax=ax, label='Time', shrink=0.8)\n",
    "\n",
    "    # Adding the start and stop positions for the particle\n",
    "    start_color = cmap(norm(TIME[0]))\n",
    "    end_color = cmap(norm(TIME[-1]))\n",
    "    ax.plot(x_mid.iloc[0], y_mid.iloc[0], 'o', color=start_color, markersize=8, label='Start')\n",
    "    ax.plot(x_mid.iloc[-1], y_mid.iloc[-1], 'o', color=end_color, markersize=8, label='End')\n",
    "\n",
    "    # Adding legend for start/end points\n",
    "    ax.legend()\n",
    "\n",
    "    # Filtering boundary particles\n",
    "    df_boundaries = XY0[XY0['type'] == 0]\n",
    "\n",
    "    # Drawing each circle\n",
    "    for _, row in df_boundaries.iterrows():\n",
    "        circle = patches.Circle((row['x'], row['y']), radius=row['rad'], edgecolor='black', \n",
    "            facecolor='none', linewidth=0.75)\n",
    "        ax.add_patch(circle)\n",
    "\n",
    "    ax.set_xlim(-2,32)\n",
    "    ax.set_ylim(-2,32)\n",
    "\n",
    "    # Adding grid and labels\n",
    "    # ax.grid(True, alpha=0.3)\n",
    "    ax.set_xlabel('X Position')\n",
    "    ax.set_ylabel('Y Position')\n",
    "    ax.set_title(f'Particle {pid} Trajectory with Time-Colored Vectors')\n",
    "\n",
    "\n",
    "    # Saving the figure\n",
    "    plt.savefig(f\"quiver_plot_traj_particle_{pid}.png\", dpi=1000, bbox_inches='tight')\n",
    "\n",
    "    plt.show()"
   ]
  },
  {
   "cell_type": "code",
   "execution_count": null,
   "id": "bbe53fce",
   "metadata": {},
   "outputs": [],
   "source": []
  }
 ],
 "metadata": {
  "kernelspec": {
   "display_name": "Python 3 (ipykernel)",
   "language": "python",
   "name": "python3"
  },
  "language_info": {
   "codemirror_mode": {
    "name": "ipython",
    "version": 3
   },
   "file_extension": ".py",
   "mimetype": "text/x-python",
   "name": "python",
   "nbconvert_exporter": "python",
   "pygments_lexer": "ipython3",
   "version": "3.10.12"
  }
 },
 "nbformat": 4,
 "nbformat_minor": 5
}
