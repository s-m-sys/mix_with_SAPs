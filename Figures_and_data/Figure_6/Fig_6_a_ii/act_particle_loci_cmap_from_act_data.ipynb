{
 "cells": [
  {
   "cell_type": "code",
   "execution_count": null,
   "id": "fa3e6e7f",
   "metadata": {},
   "outputs": [],
   "source": [
    "import os\n",
    "import numpy as np\n",
    "import matplotlib.pyplot as plt\n",
    "import pandas as pd\n",
    "from matplotlib.colors import Normalize\n",
    "from matplotlib.patches import Circle"
   ]
  },
  {
   "cell_type": "code",
   "execution_count": null,
   "id": "96268a0f",
   "metadata": {},
   "outputs": [],
   "source": [
    "df0 = pd.read_csv(\"ini_state_q1.txt\", header = None, delimiter='\\t', names=['x','y','r','theta','speed','type'])\n",
    "part_type = df0['type']\n",
    "bound_x = df0[df0['type']==0]['x']\n",
    "bound_y = df0[df0['type']==0]['y']\n",
    "R = 15.0\n",
    "r = 1.0"
   ]
  },
  {
   "cell_type": "code",
   "execution_count": null,
   "id": "67326c2c",
   "metadata": {},
   "outputs": [],
   "source": [
    "df = pd.read_csv(\"active_data_TSAP.csv\",header=None,delimiter='\\t')\n",
    "t = np.array(df.iloc[0,1:])\n",
    "X = np.array(df.iloc[1:4,1:])\n",
    "Y = np.array(df.iloc[4:7,1:])"
   ]
  },
  {
   "cell_type": "code",
   "execution_count": null,
   "id": "51ce84d7",
   "metadata": {},
   "outputs": [],
   "source": [
    "norm = Normalize(vmin=np.min(t), vmax=np.max(t))\n",
    "cmap = plt.cm.viridis"
   ]
  },
  {
   "cell_type": "code",
   "execution_count": null,
   "id": "ff318a56",
   "metadata": {},
   "outputs": [],
   "source": [
    "try:\n",
    "    os.mkdir(\"active_locus_TSAP\")\n",
    "    print(\"Directory is created\")\n",
    "except FileExistsError:\n",
    "    print(\"Directory already exist\")"
   ]
  },
  {
   "cell_type": "code",
   "execution_count": null,
   "id": "0f76d94e",
   "metadata": {},
   "outputs": [],
   "source": [
    "plt.figure(figsize=(8, 6))\n",
    "scatter = plt.scatter(X[0,:], Y[0,:], c=t, cmap=cmap, norm=norm, s=10)\n",
    "plt.colorbar(scatter, label=\"Time\")\n",
    "plt.title(\"Scatter Plot with Colormap for Time Progression\")\n",
    "plt.xlabel(\"x\")\n",
    "plt.ylabel(\"y\")\n",
    "#     plt.grid(True)\n",
    "\n",
    "ax = plt.gca()  # Get the current axis\n",
    "\n",
    "for bx, by in zip(bound_x, bound_y):\n",
    "    circle = Circle((bx, by), radius=1, edgecolor='black', fill=False, alpha=0.8)\n",
    "    ax.add_patch(circle)\n",
    "\n",
    "\n",
    "ax.set_aspect('equal', adjustable='box')  # Set equal scaling\n",
    "\n",
    "plt.savefig(f\"active_locus_TSAP/particle_1\")\n",
    "\n",
    "plt.figure(figsize=(8, 6))\n",
    "scatter = plt.scatter(X[1,:], Y[1,:], c=t, cmap=cmap, norm=norm, s=10)\n",
    "plt.colorbar(scatter, label=\"Time\")\n",
    "plt.title(\"Scatter Plot with Colormap for Time Progression\")\n",
    "plt.xlabel(\"x\")\n",
    "plt.ylabel(\"y\")\n",
    "#     plt.grid(True)\n",
    "\n",
    "ax = plt.gca()  # Get the current axis\n",
    "\n",
    "for bx, by in zip(bound_x, bound_y):\n",
    "    circle = Circle((bx, by), radius=1, edgecolor='black', fill=False, alpha=0.8)\n",
    "    ax.add_patch(circle)\n",
    "\n",
    "\n",
    "ax.set_aspect('equal', adjustable='box')  # Set equal scaling\n",
    "\n",
    "plt.savefig(f\"active_locus_TSAP/particle_2\")\n",
    "\n",
    "plt.figure(figsize=(8, 6))\n",
    "scatter = plt.scatter(X[2,:], Y[2,:], c=t, cmap=cmap, norm=norm, s=10)\n",
    "plt.colorbar(scatter, label=\"Time\")\n",
    "plt.title(\"Scatter Plot with Colormap for Time Progression\")\n",
    "plt.xlabel(\"x\")\n",
    "plt.ylabel(\"y\")\n",
    "#     plt.grid(True)\n",
    "\n",
    "ax = plt.gca()  # Get the current axis\n",
    "\n",
    "for bx, by in zip(bound_x, bound_y):\n",
    "    circle = Circle((bx, by), radius=1, edgecolor='black', fill=False, alpha=0.8)\n",
    "    ax.add_patch(circle)\n",
    "\n",
    "\n",
    "ax.set_aspect('equal', adjustable='box')  # Set equal scaling\n",
    "\n",
    "plt.savefig(f\"active_locus_TSAP/particle_3\")\n",
    "\n",
    "\n",
    "plt.close('all')"
   ]
  },
  {
   "cell_type": "code",
   "execution_count": null,
   "id": "975e8f93",
   "metadata": {},
   "outputs": [],
   "source": []
  }
 ],
 "metadata": {
  "kernelspec": {
   "display_name": "Python 3 (ipykernel)",
   "language": "python",
   "name": "python3"
  },
  "language_info": {
   "codemirror_mode": {
    "name": "ipython",
    "version": 3
   },
   "file_extension": ".py",
   "mimetype": "text/x-python",
   "name": "python",
   "nbconvert_exporter": "python",
   "pygments_lexer": "ipython3",
   "version": "3.10.12"
  }
 },
 "nbformat": 4,
 "nbformat_minor": 5
}
