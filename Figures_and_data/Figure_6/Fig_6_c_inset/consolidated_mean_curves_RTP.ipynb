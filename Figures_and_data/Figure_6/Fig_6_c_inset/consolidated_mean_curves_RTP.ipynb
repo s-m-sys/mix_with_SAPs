{
 "cells": [
  {
   "cell_type": "code",
   "execution_count": null,
   "id": "65defc17",
   "metadata": {},
   "outputs": [],
   "source": [
    "import os\n",
    "import numpy as np\n",
    "import pandas as pd\n",
    "import matplotlib.pyplot as plt"
   ]
  },
  {
   "cell_type": "code",
   "execution_count": null,
   "id": "a3353e03",
   "metadata": {},
   "outputs": [],
   "source": [
    "TAU = [5,10,20,30,40]\n",
    "for tau in TAU:\n",
    "    # Loading MI data from 100 test runs - done as 2 sets of 50 each\n",
    "    df1 = pd.read_csv(f\"tau_{tau}/MI_vs_Time.csv\", header=None, delimiter='\\t')\n",
    "    df2 = pd.read_csv(f\"tau_{tau}/MI_vs_Time_2.csv\", header=None, delimiter='\\t')\n",
    "    state1 = df1.to_numpy(dtype=float)\n",
    "    state2 = df2.to_numpy(dtype=float)\n",
    "    sim_time = state1[:,0] # retrieving time data\n",
    "    sim_rew = np.hstack((state1[:,1:],state2[:,1:])) # consolidating MI data\n",
    "    mean_rew = (np.sum(sim_rew, axis=1)/np.shape(sim_rew)[1]).reshape(-1,1) # Mean MI\n",
    "    \n",
    "    plt.xlim(0,50500)\n",
    "    plt.ylim(0,1.10)\n",
    "       # Plot the curve\n",
    "    plt.plot(sim_time, mean_rew, label=f\"tau_{tau}\")\n",
    "        # Final touches\n",
    "    plt.xlabel(\"Time\")\n",
    "    plt.ylabel(\"Mean MI\")\n",
    "    plt.title(\"Mean Curve for Mixing Index\")\n",
    "    plt.grid(True)\n",
    "    plt.legend()\n",
    "    plt.tight_layout()\n",
    "    \n",
    "plt.savefig(\"RTB_mixing_MI.png\",dpi=1000)\n",
    "plt.show()"
   ]
  },
  {
   "cell_type": "code",
   "execution_count": null,
   "id": "bef3adaf",
   "metadata": {},
   "outputs": [],
   "source": []
  }
 ],
 "metadata": {
  "kernelspec": {
   "display_name": "Python 3 (ipykernel)",
   "language": "python",
   "name": "python3"
  },
  "language_info": {
   "codemirror_mode": {
    "name": "ipython",
    "version": 3
   },
   "file_extension": ".py",
   "mimetype": "text/x-python",
   "name": "python",
   "nbconvert_exporter": "python",
   "pygments_lexer": "ipython3",
   "version": "3.10.12"
  }
 },
 "nbformat": 4,
 "nbformat_minor": 5
}
