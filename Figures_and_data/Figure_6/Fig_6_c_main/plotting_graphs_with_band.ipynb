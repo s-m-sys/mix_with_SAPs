{
 "cells": [
  {
   "cell_type": "code",
   "execution_count": null,
   "id": "7ec59427",
   "metadata": {},
   "outputs": [],
   "source": [
    "import os\n",
    "import numpy as np\n",
    "import math\n",
    "from math import pi, ceil, sqrt, pow\n",
    "import time\n",
    "import pandas as pd\n",
    "import matplotlib.pyplot as plt"
   ]
  },
  {
   "cell_type": "code",
   "execution_count": null,
   "id": "1c67e7bd",
   "metadata": {},
   "outputs": [],
   "source": [
    "part_rad = 1.0 # Radius of interior particle"
   ]
  },
  {
   "cell_type": "code",
   "execution_count": null,
   "id": "454adc3c",
   "metadata": {},
   "outputs": [],
   "source": [
    "'''Read the initial state of particles'''\n",
    "'''Calculating the particle counts'''\n",
    "df0 = pd.read_csv(\"ini_state_q1.txt\", header = None, delimiter='\\t', names=['x','y','r','theta','speed','type'])\n",
    "part = df0['type']\n",
    "x = df0['x']\n",
    "y = df0['y']\n",
    "N_ACTIVE = np.sum([part==1])\n",
    "N_PASSIVE = np.sum([part==-1])\n",
    "N_WALL = np.sum([part==0])\n",
    "PASSIVE_HALF = int(N_PASSIVE/2)\n",
    "N_INT = int(N_ACTIVE + N_PASSIVE)\n",
    "N_TOTAL = int(N_ACTIVE + N_PASSIVE + N_WALL)"
   ]
  },
  {
   "cell_type": "code",
   "execution_count": null,
   "id": "b4a8bc1c",
   "metadata": {},
   "outputs": [],
   "source": [
    "cell_width = 4*part_rad\n",
    "nn_cell_width = 4*part_rad\n",
    "sq_cutoff_rad = (nn_cell_width)**2 # square of cut-off radius"
   ]
  },
  {
   "cell_type": "code",
   "execution_count": null,
   "id": "81a2c18f",
   "metadata": {},
   "outputs": [],
   "source": [
    "x_low = np.amin(x)-nn_cell_width\n",
    "y_low = np.amin(y)-nn_cell_width\n",
    "x_max = np.amax(x)+nn_cell_width\n",
    "y_max = np.amax(y)+nn_cell_width\n",
    "\n",
    "Nc_x = int(np.ceil((x_max-x_low)/nn_cell_width))\n",
    "Nc_y = int(np.ceil((y_max-y_low)/nn_cell_width))\n",
    "N_cells = int(Nc_x*Nc_y) # Total no of cells"
   ]
  },
  {
   "cell_type": "markdown",
   "id": "a9667359",
   "metadata": {},
   "source": [
    "Calculating the Mixing Index using Nearest Neighbour in a cutoff radius"
   ]
  },
  {
   "cell_type": "code",
   "execution_count": null,
   "id": "7b87c3b3",
   "metadata": {},
   "outputs": [],
   "source": [
    "def nn_fn(data_passive):\n",
    "    nn_list = np.zeros(N_PASSIVE,dtype=int)\n",
    "    posx = data_passive[:,0]\n",
    "    posy = data_passive[:,1]\n",
    "\n",
    "    head = np.ones(N_cells)*(-1)\n",
    "    cell_x = (np.divide(np.subtract(posx,x_low),nn_cell_width)).astype(int) # Putting agent into respective xcell\n",
    "    cell_y = (np.divide(np.subtract(posy,y_low),nn_cell_width)).astype(int); # Putting agent into respective ycell\n",
    "    cell_pos = (cell_x*Nc_y + cell_y).astype(int); # Cell number calculated vertically\n",
    "    \n",
    "    #assigning particles' (identity) in head2 & nn_list for easily accessing\n",
    "    for i in range (N_PASSIVE):\n",
    "        nn_list[i] = head[cell_pos[i]]\n",
    "        head[cell_pos[i]] = i\n",
    "        \n",
    "    pass_type = np.zeros((N_PASSIVE,2))\n",
    "\n",
    "    for i in range (Nc_x):\n",
    "        for j in range (Nc_y):\n",
    "            cell_n = i*Nc_y + j\n",
    "            iat = int(head[cell_n])\n",
    "            while (iat != -1): # -1 implies no particles in this head/cell \n",
    "                for neigh_cell_x in [i-1,i,i+1]:\n",
    "                    for neigh_cell_y in [j-1,j,j+1]:\n",
    "                        neigh_cell_n = neigh_cell_x*Nc_y + neigh_cell_y\n",
    "                        jat = int(head[neigh_cell_n])\n",
    "                        while (jat != -1): # -1 implies no particles in this head/cell \n",
    "                            if(iat != jat):\n",
    "                                # Distance calculation of neighboring particles\n",
    "                                dx = posx[jat] - posx[iat]\n",
    "                                dy = posy[jat] - posy[iat]\n",
    "                                sq_distance = dx*dx + dy*dy\n",
    "                                \n",
    "                                if (sq_distance <=sq_cutoff_rad):\n",
    "                                    if(jat<PASSIVE_HALF):\n",
    "                                        pass_type[iat][0] += 1 # TYPE 1 PASSIVE\n",
    "                                    if(jat>=PASSIVE_HALF):\n",
    "                                        pass_type[iat][1] += 1 # TYPE 2 PASSIVE\n",
    "\n",
    "                            jat = int(nn_list[jat])\n",
    "\n",
    "                iat = nn_list[iat]\n",
    "    #print(np.shape(pass_type))\n",
    "    ratio_1 = np.sum(2*np.nan_to_num(np.divide(pass_type[:PASSIVE_HALF,1],(pass_type[:PASSIVE_HALF,0]+pass_type[:PASSIVE_HALF,1]))),axis=0)\n",
    "    ratio_2 = np.sum(2*np.nan_to_num(np.divide(pass_type[-PASSIVE_HALF:,0],(pass_type[-PASSIVE_HALF:,0]+pass_type[-PASSIVE_HALF:,1]))),axis=0)\n",
    "    mix_index = (ratio_1+ratio_2)/N_PASSIVE\n",
    "#     print(pass_type)\n",
    "#     print(mix_index)\n",
    "    return mix_index"
   ]
  },
  {
   "cell_type": "code",
   "execution_count": null,
   "id": "4fe13edc",
   "metadata": {},
   "outputs": [],
   "source": [
    "ini_time = 0\n",
    "max_time = 50000"
   ]
  },
  {
   "cell_type": "code",
   "execution_count": null,
   "id": "d43684ee",
   "metadata": {},
   "outputs": [],
   "source": [
    "time = np.arange(ini_time,max_time+1,20).reshape(-1,1)\n",
    "steps = np.shape(time)[0]"
   ]
  },
  {
   "cell_type": "code",
   "execution_count": null,
   "id": "b98d1802",
   "metadata": {},
   "outputs": [],
   "source": [
    "df0 = pd.read_csv(\"ini_state_q1.txt\", header = None, delimiter='\\t', names=['x','y','r','theta','speed','type'])\n",
    "state0 = df0.to_numpy(dtype=float)\n",
    "data0 = state0[N_ACTIVE:N_INT,:2]"
   ]
  },
  {
   "cell_type": "code",
   "execution_count": null,
   "id": "e7833260",
   "metadata": {},
   "outputs": [],
   "source": [
    "avg_rew_20 = np.zeros((steps,1),dtype=float)"
   ]
  },
  {
   "cell_type": "code",
   "execution_count": null,
   "id": "c3237572",
   "metadata": {},
   "outputs": [],
   "source": [
    "avg_rew_20[0,0] = nn_fn(data0) \n",
    "df = pd.read_csv(\"MI_vs_Time_opt.csv\", header=None, delimiter='\\t')\n",
    "state = df.to_numpy(dtype=float)\n",
    "sim_time = state[:,0]\n",
    "sim_rew = state[:,1:]\n",
    "avg_rew_20[1:np.shape(sim_time)[0]+1,0] = np.sum(sim_rew, axis=1)/np.shape(sim_rew)[1]\n",
    "del df, state, sim_time, sim_rew"
   ]
  },
  {
   "cell_type": "markdown",
   "id": "193843ff",
   "metadata": {},
   "source": [
    "# With std dev"
   ]
  },
  {
   "cell_type": "code",
   "execution_count": null,
   "id": "d98e8dd9",
   "metadata": {},
   "outputs": [],
   "source": [
    "df = pd.read_csv(\"MI_vs_Time_opt.csv\", header=None, delimiter='\\t')\n",
    "state = df.to_numpy(dtype=float)\n",
    "sim_time = state[:,0]\n",
    "sim_rew = np.zeros((np.shape(sim_time)[0]+1,np.shape(state)[1]-1),dtype=float)\n",
    "sim_rew[0,:] = nn_fn(data0)\n",
    "sim_rew[1:,:] = state[:,1:]\n",
    "mean_rew_l = avg_rew_20[:,0].reshape(-1,1)"
   ]
  },
  {
   "cell_type": "code",
   "execution_count": null,
   "id": "4e293a06",
   "metadata": {},
   "outputs": [],
   "source": [
    "std=np.zeros((np.shape(sim_time)[0]+1,1),dtype=float)"
   ]
  },
  {
   "cell_type": "code",
   "execution_count": null,
   "id": "5bb83db1",
   "metadata": {},
   "outputs": [],
   "source": [
    "std = np.sqrt(np.sum(np.square(sim_rew-mean_rew_l),axis=1)/(np.shape(sim_rew)[1]-1)).reshape(-1,1)"
   ]
  },
  {
   "cell_type": "code",
   "execution_count": null,
   "id": "d12d6a67",
   "metadata": {},
   "outputs": [],
   "source": [
    "y_plus_l = (mean_rew_l+std).flatten()\n",
    "y_minus_l = (mean_rew_l-std).flatten()\n",
    "x = np.arange(0,50001,20)\n",
    "del sim_time, sim_rew, std, avg_rew_20"
   ]
  },
  {
   "cell_type": "code",
   "execution_count": null,
   "id": "ff1583d1",
   "metadata": {},
   "outputs": [],
   "source": [
    "avg_rew_20 = np.zeros((steps,1),dtype=float)"
   ]
  },
  {
   "cell_type": "code",
   "execution_count": null,
   "id": "939c02dc",
   "metadata": {},
   "outputs": [],
   "source": [
    "avg_rew_20[0,0] = nn_fn(data0) \n",
    "df = pd.read_csv(r\"MI_vs_Time_non_opt.csv\", header=None, delimiter='\\t')\n",
    "state = df.to_numpy(dtype=float)\n",
    "sim_time = state[:,0]\n",
    "sim_rew = state[:,1:]\n",
    "avg_rew_20[1:np.shape(sim_time)[0]+1,0] = np.sum(sim_rew, axis=1)/np.shape(sim_rew)[1]\n",
    "del df, state, sim_time, sim_rew"
   ]
  },
  {
   "cell_type": "code",
   "execution_count": null,
   "id": "525b42f6",
   "metadata": {},
   "outputs": [],
   "source": [
    "df = pd.read_csv(r\"MI_vs_Time_non_opt.csv\", header=None, delimiter='\\t')\n",
    "state = df.to_numpy(dtype=float)\n",
    "sim_time = state[:,0]\n",
    "sim_rew = np.zeros((np.shape(sim_time)[0]+1,np.shape(state)[1]-1),dtype=float)\n",
    "sim_rew[0,:] = nn_fn(data0)\n",
    "sim_rew[1:,:] = state[:,1:]\n",
    "mean_rew_ul = avg_rew_20[:,0].reshape(-1,1)"
   ]
  },
  {
   "cell_type": "code",
   "execution_count": null,
   "id": "19f24796",
   "metadata": {},
   "outputs": [],
   "source": [
    "std=np.zeros((np.shape(sim_time)[0]+1,1),dtype=float)"
   ]
  },
  {
   "cell_type": "code",
   "execution_count": null,
   "id": "e32f8944",
   "metadata": {},
   "outputs": [],
   "source": [
    "std = np.sqrt(np.sum(np.square(sim_rew-mean_rew_ul),axis=1)/(np.shape(sim_rew)[1]-1)).reshape(-1,1)"
   ]
  },
  {
   "cell_type": "code",
   "execution_count": null,
   "id": "139cd4ed",
   "metadata": {},
   "outputs": [],
   "source": [
    "y_plus_ul = (mean_rew_ul+std).flatten()\n",
    "y_minus_ul = (mean_rew_ul-std).flatten()\n",
    "x = np.arange(0,50001,20)\n",
    "del sim_time, sim_rew, std"
   ]
  },
  {
   "cell_type": "code",
   "execution_count": null,
   "id": "2bd6435f",
   "metadata": {},
   "outputs": [],
   "source": [
    "plt.figure(3)\n",
    "plt.plot(x,mean_rew_ul,color='black', label=['pi/2_20s_non_trained'])\n",
    "# plt.plot(time2,y_plus,label=['y_plus'])\n",
    "# plt.plot(time2,y_minus,label=['y_minus'])\n",
    "plt.fill_between(x, y_minus_ul, y_plus_ul, color='green', alpha=0.5)#, label='ul_band')\n",
    "\n",
    "plt.plot(x,mean_rew_l,color='blue', label=['pi/2_20s_trained'])\n",
    "# plt.plot(time2,y_plus,label=['y_plus'])\n",
    "# plt.plot(time2,y_minus,label=['y_minus'])\n",
    "plt.fill_between(x, y_minus_l, y_plus_l, color='grey', alpha=0.5)#, label='l_band')\n",
    "\n",
    "plt.xlim([0, 50000]) \n",
    "plt.ylim([0.0, 1.10])\n",
    "plt.xlabel('Time')\n",
    "plt.ylabel('Mix Index')\n",
    "plt.legend(loc=\"lower right\")\n",
    "plt.savefig(\"MI_vs_Time_pi_2_20.png\",dpi=1000)\n",
    "plt.show()\n",
    "plt.close()"
   ]
  },
  {
   "cell_type": "code",
   "execution_count": null,
   "id": "cd3a1427",
   "metadata": {},
   "outputs": [],
   "source": []
  },
  {
   "cell_type": "code",
   "execution_count": null,
   "id": "03a9ea59",
   "metadata": {},
   "outputs": [],
   "source": []
  }
 ],
 "metadata": {
  "kernelspec": {
   "display_name": "Python 3 (ipykernel)",
   "language": "python",
   "name": "python3"
  },
  "language_info": {
   "codemirror_mode": {
    "name": "ipython",
    "version": 3
   },
   "file_extension": ".py",
   "mimetype": "text/x-python",
   "name": "python",
   "nbconvert_exporter": "python",
   "pygments_lexer": "ipython3",
   "version": "3.10.12"
  }
 },
 "nbformat": 4,
 "nbformat_minor": 5
}
