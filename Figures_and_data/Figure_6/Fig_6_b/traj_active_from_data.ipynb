{
 "cells": [
  {
   "cell_type": "code",
   "execution_count": null,
   "id": "8261b7eb",
   "metadata": {
    "scrolled": true
   },
   "outputs": [],
   "source": [
    "import numpy as np\n",
    "import pandas as pd\n",
    "import matplotlib.pyplot as plt\n",
    "import matplotlib.cm as cm\n",
    "import matplotlib.colors as mcolors\n",
    "from mpl_toolkits.axes_grid1 import make_axes_locatable\n",
    "import os\n",
    "\n",
    "particle_radius = 0.35           # Radius of the plotted circles for particles\n",
    "boundary_radius = 1.0           # Radius for boundary circles\n",
    "num_boundary = 47               # Number of boundary particles\n",
    "\n",
    "df0 = pd.read_csv(\"ini_state_q1.txt\", header = None, delimiter='\\t', names=['x','y','r','theta','speed','type'])\n",
    "data = df0.iloc[:,:2]\n",
    "boundary_positions = data[-num_boundary:].values"
   ]
  },
  {
   "cell_type": "code",
   "execution_count": null,
   "id": "44dcbb11",
   "metadata": {},
   "outputs": [],
   "source": [
    "# Load trajectory data with particle id\n",
    "df = pd.read_csv('trajectory_data.csv')\n",
    "\n",
    "# construct trajectory list\n",
    "trajectories = []\n",
    "for traj_id in df['trajectory_id'].unique():\n",
    "    traj_data = df[df['trajectory_id'] == traj_id][['x', 'y']].values\n",
    "    trajectories.append(traj_data)"
   ]
  },
  {
   "cell_type": "code",
   "execution_count": null,
   "id": "aa39413f",
   "metadata": {},
   "outputs": [],
   "source": [
    "# --- PLOTTING ---\n",
    "num_times = len(trajectories[0])\n",
    "cmap_list = [cm.Reds, cm.Greens, cm.Blues]\n",
    "norm = mcolors.Normalize(vmin=0, vmax=num_times-1)\n",
    "base_colors = ['red', 'green', 'blue']\n",
    "\n",
    "fig, ax = plt.subplots(figsize=(12, 12))\n",
    "\n",
    "# Draw boundary particles\n",
    "for bx, by in boundary_positions:\n",
    "    circle = plt.Circle((bx, by), boundary_radius, color='black', fill=None, alpha=0.3)\n",
    "    ax.add_patch(circle)\n",
    "\n",
    "# Draw trajectories with color gradients\n",
    "particle_id = [0,1,2]\n",
    "# particle_id = [0]\n",
    "for p_idx in particle_id:\n",
    "    for t_idx, (x, y) in enumerate(trajectories[p_idx]):\n",
    "        color = cmap_list[p_idx](norm(t_idx))\n",
    "        circle = plt.Circle((x, y), particle_radius, color=color, fill=True, alpha=0.8)\n",
    "        ax.add_patch(circle)\n",
    "\n",
    "cmap1 = cm.Blues  # Use colormap for the trajectory\n",
    "sm1 = plt.cm.ScalarMappable(cmap=cmap1, norm=norm)\n",
    "cbar_ax1 = plt.colorbar(sm1, ax=ax, orientation='vertical', fraction=0.03, shrink=0.5, pad=0.10)\n",
    "\n",
    "cmap2 = cm.Greens  # Use tcolormap for the trajectory\n",
    "sm2 = plt.cm.ScalarMappable(cmap=cmap2, norm=norm)\n",
    "cbar_ax2 = plt.colorbar(sm2, ax=ax, orientation='vertical', fraction=0.05, shrink=0.5, pad=0.10)\n",
    "\n",
    "cmap3 = cm.Reds  # Use colormap for the trajectory\n",
    "sm3 = plt.cm.ScalarMappable(cmap=cmap3, norm=norm)\n",
    "cbar_ax3 = plt.colorbar(sm3, ax=ax, orientation='vertical', fraction=0.09, shrink=0.5, pad=0.10)\n",
    "        \n",
    "# Setting axis limits\n",
    "all_x = np.concatenate([np.array(traj)[:, 0] for traj in trajectories] + [boundary_positions[:, 0]])\n",
    "all_y = np.concatenate([np.array(traj)[:, 1] for traj in trajectories] + [boundary_positions[:, 1]])\n",
    "margin = 5\n",
    "ax.set_xlim(all_x.min() - margin, all_x.max() + margin)\n",
    "ax.set_ylim(all_y.min() - margin, all_y.max() + margin)\n",
    "ax.set_aspect('equal')\n",
    "ax.set_title('Trajectories of Three Particles with Time-Gradient Coloring')\n",
    "ax.set_xlabel('X Position')\n",
    "ax.set_ylabel('Y Position')\n",
    "\n",
    "# Adding legend\n",
    "from matplotlib.lines import Line2D\n",
    "legend_elements = [Line2D([0], [0], marker='o', color='w', label=f'Particle {i+1}',\n",
    "                          markerfacecolor=base_colors[i], markersize=10) for i in range(3)]\n",
    "ax.legend(handles=legend_elements, loc='upper right')\n",
    "\n",
    "plt.tight_layout()\n",
    "plt.savefig(\"active_traj.png\",dpi=1000)"
   ]
  },
  {
   "cell_type": "code",
   "execution_count": null,
   "id": "837ce2fe",
   "metadata": {},
   "outputs": [],
   "source": []
  }
 ],
 "metadata": {
  "kernelspec": {
   "display_name": "Python 3 (ipykernel)",
   "language": "python",
   "name": "python3"
  },
  "language_info": {
   "codemirror_mode": {
    "name": "ipython",
    "version": 3
   },
   "file_extension": ".py",
   "mimetype": "text/x-python",
   "name": "python",
   "nbconvert_exporter": "python",
   "pygments_lexer": "ipython3",
   "version": "3.10.12"
  }
 },
 "nbformat": 4,
 "nbformat_minor": 5
}
