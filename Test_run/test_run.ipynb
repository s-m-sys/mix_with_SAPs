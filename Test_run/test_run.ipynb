{
 "cells": [
  {
   "cell_type": "code",
   "execution_count": null,
   "id": "a2e8af85-d7c3-4139-9e05-84d3039e9e18",
   "metadata": {},
   "outputs": [],
   "source": [
    "'''This code is used to test a model trained using PYTHON_C_MIXING_v1.ipynb'''"
   ]
  },
  {
   "cell_type": "code",
   "execution_count": null,
   "id": "5c795aed",
   "metadata": {},
   "outputs": [],
   "source": [
    "import numpy as np\n",
    "import os\n",
    "from math import pi, ceil, sqrt\n",
    "import time\n",
    "import pandas as pd\n",
    "import pathlib\n",
    "import ctypes\n",
    "from IPython.display import clear_output\n",
    "\n",
    "if not os.path.exists(\"particle_data\"):os.makedirs(\"particle_data\")"
   ]
  },
  {
   "cell_type": "markdown",
   "id": "4752fbce",
   "metadata": {},
   "source": [
    "Parameters"
   ]
  },
  {
   "cell_type": "code",
   "execution_count": null,
   "id": "328f576b",
   "metadata": {},
   "outputs": [],
   "source": [
    "INT_RAD = 1.0 # Radius of interior particle\n",
    "DOMAIN_TO_RAD = 15 # Ratio of domain radius to interior particle radius\n",
    "INT_DIA = 2.0*INT_RAD  # Diameter of interior particle\n",
    "DOMAIN_RAD = DOMAIN_TO_RAD * INT_RAD  #  Radius of the domain"
   ]
  },
  {
   "cell_type": "code",
   "execution_count": null,
   "id": "17aeef29",
   "metadata": {},
   "outputs": [],
   "source": [
    "part_rad = INT_RAD\n",
    "cell_width = 4*part_rad\n",
    "nn_cell_width = 4*part_rad\n",
    "sq_cutoff_rad = (nn_cell_width)**2\n",
    "dt = 0.01"
   ]
  },
  {
   "cell_type": "code",
   "execution_count": null,
   "id": "6578cd2a",
   "metadata": {},
   "outputs": [],
   "source": [
    "final_episode = 50 # Number of times to repeat the test run\n",
    "print_episode = 0 "
   ]
  },
  {
   "cell_type": "markdown",
   "id": "fbfee3ca",
   "metadata": {},
   "source": [
    "Declare C function prototypes for \"mixing.c\""
   ]
  },
  {
   "cell_type": "code",
   "execution_count": null,
   "id": "13ef40cf",
   "metadata": {},
   "outputs": [],
   "source": [
    "# Load the shared library\n",
    "path = os.getcwd()\n",
    "mixing_lib = ctypes.CDLL(os.path.join(path,'mixing.so')) # '.so' is the compiled C file name\n",
    "\n",
    "# Define the C function signature\n",
    "process = mixing_lib.mix_state\n",
    "process.argtypes = [ctypes.POINTER(ctypes.c_double), ctypes.POINTER(ctypes.c_double),\\\n",
    "                    ctypes.c_int, ctypes.c_int, ctypes.c_double, ctypes.c_double,\\\n",
    "                    ctypes.c_int, ctypes.c_int, ctypes.c_int, ctypes.c_double]#, ctypes.c_double, ctypes.c_double]\n",
    "#state, thetaRL, rows, cols, P_rad, D_rad, N_wall, N_passive, N_active, delta_t, Time\n",
    "process.restype = ctypes.POINTER(ctypes.c_double)\n",
    "\n",
    "# To free the dynamic array in C\n",
    "dealloc_mem = mixing_lib.free_array\n",
    "dealloc_mem.argtypes = [ctypes.POINTER(ctypes.c_double)]"
   ]
  },
  {
   "cell_type": "markdown",
   "id": "160230aa",
   "metadata": {},
   "source": [
    "Function call for mixing process"
   ]
  },
  {
   "cell_type": "code",
   "execution_count": null,
   "id": "77c8dd5e",
   "metadata": {},
   "outputs": [],
   "source": [
    "def call_mix_function(state_array, theta_array, del_t):\n",
    "    rows = state_array.shape[0]\n",
    "    cols = state_array.shape[1]\n",
    "    \n",
    "    # Convert the state to a flat C-style array\n",
    "    state_array = state_array.astype(np.float64)\n",
    "    state_array_flat = state_array.flatten(order='C')\n",
    "    cstyle_state = state_array_flat.ctypes.data_as(ctypes.POINTER(ctypes.c_double))\n",
    "    \n",
    "    # Convert theta to a C-style array\n",
    "    theta_array = theta_array.astype(np.float64)\n",
    "    cstyle_theta = theta_array.ctypes.data_as(ctypes.POINTER(ctypes.c_double))\n",
    "\n",
    "    #Passing arguements to C function.................................................\n",
    "    new_state = process(cstyle_state, cstyle_theta, rows, cols, INT_RAD, DOMAIN_RAD,\\\n",
    "                        N_WALL, N_PASSIVE, N_ACTIVE, del_t)#,Time)\n",
    "    #...................................................................................\n",
    "    \n",
    "    # Convert the pointer to a Python array\n",
    "    python_state = np.ctypeslib.as_array(new_state, shape=(rows * cols,))\n",
    "    \n",
    "    # convert from 1D to 2D Python array\n",
    "    mod_state = python_state.reshape(rows,cols).copy()\n",
    "    \n",
    "    # Free the allocated memory in C\n",
    "    dealloc_mem(new_state)\n",
    "    \n",
    "    return mod_state"
   ]
  },
  {
   "cell_type": "markdown",
   "id": "0d6f8517",
   "metadata": {},
   "source": [
    "Function for Mixing Index Calculation"
   ]
  },
  {
   "cell_type": "code",
   "execution_count": null,
   "id": "b662539f",
   "metadata": {},
   "outputs": [],
   "source": [
    "def nn_fn(data_passive):\n",
    "    \n",
    "    nn_list = np.zeros(N_PASSIVE,dtype=int)\n",
    "    posx_nn = data_passive[:,0]\n",
    "    posy_nn = data_passive[:,1]\n",
    "    head_nn = np.ones(N_cells_nn)*(-1)\n",
    "    cell_x_nn = (np.divide(np.subtract(posx_nn,x_low_nn),nn_cell_width)).astype(int) # Putting agent into respective xcell\n",
    "    cell_y_nn = (np.divide(np.subtract(posy_nn,y_low_nn),nn_cell_width)).astype(int); # Putting agent into respective ycell\n",
    "    cell_pos_nn = (cell_x_nn*Nc_y_nn + cell_y_nn).astype(int); # Cell number calculated vertically\n",
    "    \n",
    "    #assigning particles' (identity) in head2 & nn_list for easily accessing\n",
    "    for i in range (N_PASSIVE):\n",
    "        nn_list[i] = head_nn[cell_pos_nn[i]]\n",
    "        head_nn[cell_pos_nn[i]] = i\n",
    "        \n",
    "    pass_type = np.zeros((N_PASSIVE,2))\n",
    "\n",
    "    for i in range (Nc_x_nn):\n",
    "        for j in range (Nc_y_nn):\n",
    "            nn_cell_n = i*Nc_y_nn + j\n",
    "            iat = int(head_nn[nn_cell_n])\n",
    "            while (iat != -1): # -1 implies no particles in this head/cell \n",
    "                for neigh_cell_x in [i-1,i,i+1]:\n",
    "                    for neigh_cell_y in [j-1,j,j+1]:\n",
    "                        neigh_cell_n = neigh_cell_x*Nc_y_nn + neigh_cell_y\n",
    "                        jat = int(head_nn[neigh_cell_n])\n",
    "                        while (jat != -1): # -1 implies no particles in this head/cell \n",
    "                            if(iat != jat):\n",
    "                                # Distance calculation of neighboring particles\n",
    "                                dx = posx_nn[jat] - posx_nn[iat]\n",
    "                                dy = posy_nn[jat] - posy_nn[iat]\n",
    "                                sq_distance = dx*dx + dy*dy\n",
    "                                \n",
    "                                if (sq_distance <=sq_cutoff_rad):\n",
    "                                    if(jat<PASSIVE_HALF):\n",
    "                                        pass_type[iat][0] += 1 # TYPE 1 PASSIVE\n",
    "                                    if(jat>=PASSIVE_HALF):\n",
    "                                        pass_type[iat][1] += 1 # TYPE 2 PASSIVE\n",
    "\n",
    "                            jat = int(nn_list[jat])\n",
    "\n",
    "                iat = nn_list[iat]\n",
    "    #print(np.shape(pass_type))\n",
    "    ratio_1 = np.sum(2*np.nan_to_num(np.divide(pass_type[:PASSIVE_HALF,1],(pass_type[:PASSIVE_HALF,0]+pass_type[:PASSIVE_HALF,1]))),axis=0)\n",
    "    ratio_2 = np.sum(2*np.nan_to_num(np.divide(pass_type[-PASSIVE_HALF:,0],(pass_type[-PASSIVE_HALF:,0]+pass_type[-PASSIVE_HALF:,1]))),axis=0)\n",
    "    mix_index = (ratio_1+ratio_2)/N_PASSIVE\n",
    "#     print(mix_index)\n",
    "    return mix_index"
   ]
  },
  {
   "cell_type": "markdown",
   "id": "d4f89bd0",
   "metadata": {},
   "source": [
    "Functions in class Simulate"
   ]
  },
  {
   "cell_type": "code",
   "execution_count": null,
   "id": "b7abf44c",
   "metadata": {},
   "outputs": [],
   "source": [
    "class Simulate:\n",
    "\n",
    "    \"\"\"To read initial particle positions and return passive and active state (x,y,u,v) separately\"\"\"\n",
    "    @staticmethod\n",
    "    def interiorParticlesRead():\n",
    "        global theta, rad, vel, part_type,  N_WALL, N_PASSIVE, N_ACTIVE,\\\n",
    "            INT_PARTICLES, N_TOTAL, PASSIVE_HALF, x_low, y_low, x_max, y_max, Nc_x, Nc_y, N_cells,\\\n",
    "            x_low_nn, y_low_nn, x_max_nn, y_max_nn, Nc_x_nn, Nc_y_nn, N_cells_nn\n",
    "        part = pd.read_csv(\"ini_state_q1.csv\", header = 0, delimiter=\"\\t\", names=[\"x\", \"y\",\\\n",
    "                        \"radius\", \"part_type\"])#Read values and assigned under these headers\n",
    "        pos_x = np.asarray(part['x']) #Converts the values under x to an array named x\n",
    "        pos_y = np.asarray(part['y']) #Converts the values under y to an array named y\n",
    "        rad = np.asarray(part['radius']).reshape(-1,1)\n",
    "        part_type = np.asarray(part['part_type']).reshape(-1,1) #Type of particle : 1-interior , 0-boundary\n",
    "        \n",
    "        x_low = np.amin(pos_x)-cell_width\n",
    "        y_low = np.amin(pos_y)-cell_width\n",
    "        x_max = np.amax(pos_x)+cell_width\n",
    "        y_max = np.amax(pos_y)+cell_width\n",
    "        Nc_x = int(np.ceil((x_max-x_low)/cell_width))\n",
    "        Nc_y = int(np.ceil((y_max-y_low)/cell_width))\n",
    "        N_cells = int(Nc_x*Nc_y) # Total no of cells\n",
    "        \n",
    "        x_low_nn = np.amin(pos_x)-nn_cell_width\n",
    "        y_low_nn = np.amin(pos_y)-nn_cell_width\n",
    "        x_max_nn = np.amax(pos_x)+nn_cell_width\n",
    "        y_max_nn = np.amax(pos_y)+nn_cell_width\n",
    "        Nc_x_nn = int(np.ceil((x_max_nn-x_low_nn)/nn_cell_width))\n",
    "        Nc_y_nn = int(np.ceil((y_max_nn-y_low_nn)/nn_cell_width))\n",
    "        N_cells_nn = int(Nc_x_nn*Nc_y_nn) # Total no of cells\n",
    "        \n",
    "        N_WALL = len((part_type[part_type==0]))\n",
    "        N_PASSIVE = len((part_type[part_type==-1]))\n",
    "        N_ACTIVE = len((part_type[part_type==1]))\n",
    "        INT_PARTICLES = N_ACTIVE + N_PASSIVE\n",
    "        N_TOTAL = INT_PARTICLES + N_WALL\n",
    "        PASSIVE_HALF = int(N_PASSIVE/2)\n",
    "        del part # Memory freed\n",
    "    \n",
    "    '''Initial state : (x, y) of passive & active particles'''\n",
    "    def readInitialState():\n",
    "        \"\"\"\n",
    "        Ensure all data is entered through a single file in the format given below.\n",
    "        Ensure the data is in order of wall data, passive data and active data \n",
    "        from top to bottom.The initial input file contained u,v velocities from which \n",
    "        orientation (theta) is calculated.\n",
    "        \"\"\"\n",
    "        #active, passive, and wall data : x, y, rad, vel, theta, type : indices :0 1 2 3 4 5\n",
    "        global wall_state\n",
    "        part = pd.read_csv(\"ini_state_q1.csv\", delimiter=\"\\t\",header=0) \n",
    "        initial_state = part.to_numpy(dtype=float)\n",
    "        int_state = initial_state[:INT_PARTICLES, :2] # Storing initial position of active particles of active particles\n",
    "        wall_state = initial_state[INT_PARTICLES:, :2] # Storing wall particle x,y data\n",
    "        del part\n",
    "        return int_state # Returns initial state : (x, y) of passive & active particles    \n",
    "    \n",
    "    '''Receives a state, does dynamics through a series of sub functions and returns new state'''\n",
    "    @staticmethod\n",
    "    def systemState(interior_state, theta_RL, delta_t, iteration): # receives (x, y), theta(RL) data - for active+passive separate\n",
    "        global wall_state, rad, part_type\n",
    "        state = np.concatenate((interior_state,wall_state), axis=0) # active+passive+wall - x,y data\n",
    "        theta_up = np.concatenate((theta_RL, np.zeros(N_PASSIVE) , np.zeros(N_WALL)),axis=0).reshape(-1,1)\n",
    "        c_state = np.hstack((state, rad, part_type)) # x,y,rad,part_type for all particles\n",
    "\n",
    "        #......................................................\n",
    "        up_state = call_mix_function(c_state,theta_up,delta_t) # CALLING FUNCTION FOR MIXING\n",
    "        #......................................................\n",
    "                    \n",
    "        #if print_episode==final_episode: # printing the state variables for the final episode in valuation\n",
    "        if print_episode%1==0:# printing the state variables for every episode\n",
    "            if iteration%1000 == 0: # printing after \"iteration*dt\" seconds if condition is true\n",
    "                outfile = \"pos_data/RL_particle_data_{:d}/state_{:.2f}\".format(print_episode,iteration*dt+delta_t) + \".csv\"\n",
    "                df = pd.DataFrame(np.hstack((up_state[:,:2], rad.reshape(-1,1), theta_up.reshape(-1,1), part_type.reshape(-1,1))),\\\n",
    "                                  columns=['x','y','r','theta','part'])\n",
    "                df.to_csv(outfile, index=False, sep='\\t')\n",
    "         \n",
    "        '''rew is the reward or mixing index based on current position of passive particles'''\n",
    "        rew = nn_fn(up_state[N_ACTIVE:INT_PARTICLES,:2])\n",
    "                \n",
    "        obs_state = up_state[:INT_PARTICLES, :2]\n",
    "        return obs_state, rew # Returning passive, active states separately along \n",
    "                                                      # with combined index after delta_t iterations (say 1 sec)"
   ]
  },
  {
   "cell_type": "code",
   "execution_count": null,
   "id": "eb7cf35e",
   "metadata": {},
   "outputs": [],
   "source": [
    "Simulate.interiorParticlesRead()"
   ]
  },
  {
   "cell_type": "markdown",
   "id": "66016ce7",
   "metadata": {},
   "source": [
    "# RL Implementation"
   ]
  },
  {
   "cell_type": "code",
   "execution_count": null,
   "id": "eee355f6",
   "metadata": {},
   "outputs": [],
   "source": [
    "import gym\n",
    "import tqdm\n",
    "import rich\n",
    "from gym import spaces\n",
    "from stable_baselines3.common.env_checker import check_env\n",
    "# from stable_baselines3.common.env_util import make_vec_env\n",
    "from stable_baselines3.common.vec_env import DummyVecEnv\n",
    "from stable_baselines3.common.evaluation import evaluate_policy\n",
    "import tensorflow as tf\n",
    "import datetime, os"
   ]
  },
  {
   "cell_type": "code",
   "execution_count": null,
   "id": "33c5365b",
   "metadata": {},
   "outputs": [],
   "source": [
    "# Create directory particle_data for storing data\n",
    "for i in range (int(final_episode)+1):\n",
    "    os.makedirs(\"pos_data/RL_particle_data_{:d}\".format(i))"
   ]
  },
  {
   "cell_type": "markdown",
   "id": "a6d5c72a",
   "metadata": {},
   "source": [
    "Directories for Saving"
   ]
  },
  {
   "cell_type": "code",
   "execution_count": null,
   "id": "1746f936",
   "metadata": {},
   "outputs": [],
   "source": [
    "models_dir = \"models/PPO\"\n",
    "log_dir =  \"logs\"\n",
    "\n",
    "if not os.path.exists(\"RL_particle_data\"):  # Create directory particle_data for storing data\n",
    "  os.makedirs(\"RL_particle_data\")\n",
    "\n",
    "if not os.path.exists(models_dir):  # Create directory particle_data for storing data\n",
    "  os.makedirs(models_dir)\n",
    "if not os.path.exists(log_dir):  # Create directory particle_data for storing data\n",
    "  os.makedirs(log_dir)"
   ]
  },
  {
   "cell_type": "code",
   "execution_count": null,
   "id": "8a15008a",
   "metadata": {},
   "outputs": [],
   "source": [
    "sim_time = 50000.0 # Total Simulation Time"
   ]
  },
  {
   "cell_type": "markdown",
   "id": "1b68e767",
   "metadata": {},
   "source": [
    "Environment"
   ]
  },
  {
   "cell_type": "code",
   "execution_count": null,
   "id": "1ffd53b7",
   "metadata": {},
   "outputs": [],
   "source": [
    "'''t_sim determines the time duration for an episode'''\n",
    "'''delta_t is the interval with in which RL interacts with direct run'''\n",
    "\n",
    "class ParticleMixer(gym.Env):\n",
    "    \"\"\"Custom Environment that follows gym interface\"\"\"\n",
    "    \n",
    "    def __init__(self, n_dim=2, t_sim=sim_time, delta_t=20.0):  # self is a constructor\n",
    "        super(ParticleMixer, self).__init__()\n",
    "        self.n_obs = INT_PARTICLES  # Observing particle count\n",
    "        self.n_active = N_ACTIVE\n",
    "        \n",
    "        # Define the pool of angles\n",
    "        self.angle_pool = np.arange(0, 2.0*pi, pi/2) # action space is (1,2,3,......,360)*pi/180 radians\n",
    "\n",
    "        # Setting up the action space                                                                                                            \n",
    "        self.action_space = gym.spaces.MultiDiscrete([len(self.angle_pool)] * self.n_active)\n",
    "\n",
    "        # Example for using image as input (channel-first; channel-last also works):\n",
    "        self.observation_space = spaces.Box(low=0, high=2*DOMAIN_RAD,\n",
    "                                            shape=((self.n_obs)*n_dim, ), dtype=np.float64)  # Observation space size: [n_passive+n_active] x 2 : (x,y)                                    \n",
    "\n",
    "        self.obs_state = np.zeros((self.n_obs,2), dtype=np.float64) # 2 columns (x,y)\n",
    "        self.t_sim = t_sim\n",
    "        self.n_time = 0.0\n",
    "        self.del_t = delta_t\n",
    "        self.t = 0.0\n",
    "        self.prev_action = self.action_space.sample() # creates a sample action space\n",
    "        self.done = False\n",
    "\n",
    "    def step(self, action): #This function is called by alg after reset function to perform the action\n",
    "                            # This function is linked to the system dynamics equation\n",
    "        self.action_val = [self.angle_pool[i] for i in action]  # Sampled angles for active particles\n",
    "        #print(self.prev_action)\n",
    "        \n",
    "        \"\"\" To find & assign velocity when angle \"d_theta\" is the action_space \"\"\"\n",
    "\n",
    "        #self.active_state[:,2] = self.prev_action  # theta assigned\n",
    "\n",
    "        self.obs_state, index = Simulate.systemState(self.obs_state, self.action_val, self.del_t, self.n_time) # sending x, y, theta\n",
    "        \"\"\" Send current [position, theta] and returns new [position, theta] after implementing Langevin code for delta_t time\"\"\"\n",
    "        \n",
    "        '''We take the -ve of index as reward. As mixing is better, index value decreases\n",
    "        If we take the negative, the value can be seen increasing with mixing (in the -ve range towards 0)\n",
    "        As the algorithm tends to maximise reward, the cumulative reward should be closer to 0'''\n",
    "        reward = index \n",
    "        observation = self.obs_state.flatten() # self.observation_space.sample()\n",
    "        info = {}\n",
    "        self.t += self.del_t  # Total Time Completed\n",
    "        self.n_time += self.del_t/0.01  # Total Timesteps completed\n",
    "        if self.t >= self.t_sim: self.done = True\n",
    "        return observation, reward, self.done, info\n",
    "\n",
    "    def reset(self): #While running the RL algorithm, this function is called first. This sets initial observation space\n",
    "        self.t = 0.0\n",
    "        self.n_time = 0.0\n",
    "        self.done=False     \n",
    "        self.obs_state = Simulate.readInitialState() # Resetting the initial state before an episode during first case : (x, y, theta(from i/p file))\n",
    "        observation = self.obs_state.flatten() # 1-D initial state\n",
    "#         print(\"1 reset\")\n",
    "        return observation  # reward, done, info can't be included\n",
    "    def render(self):\n",
    "        pass\n",
    "    def close (self):\n",
    "        pass"
   ]
  },
  {
   "cell_type": "markdown",
   "id": "b8d4e5d7",
   "metadata": {},
   "source": [
    "Assigning environment to variable env"
   ]
  },
  {
   "cell_type": "code",
   "execution_count": null,
   "id": "d4fcdfdc",
   "metadata": {},
   "outputs": [],
   "source": [
    "env = ParticleMixer() "
   ]
  },
  {
   "cell_type": "markdown",
   "id": "02edfdc1",
   "metadata": {},
   "source": [
    "Defining the arrays to save the mixing indices"
   ]
  },
  {
   "cell_type": "code",
   "execution_count": null,
   "id": "47c37ec0",
   "metadata": {},
   "outputs": [],
   "source": [
    "MI=np.zeros([int(env.t_sim/env.del_t),final_episode]) \n",
    "#use int(env.t_sim/env.del_t+1) if division yields non-zero remainder"
   ]
  },
  {
   "cell_type": "markdown",
   "id": "3abea87d",
   "metadata": {},
   "source": [
    "Check the custom environment for errors"
   ]
  },
  {
   "cell_type": "code",
   "execution_count": null,
   "id": "f71c5101",
   "metadata": {},
   "outputs": [],
   "source": [
    "check_env(env);"
   ]
  },
  {
   "cell_type": "markdown",
   "id": "90d4afbd",
   "metadata": {},
   "source": [
    "Algorithm and Policy"
   ]
  },
  {
   "cell_type": "code",
   "execution_count": null,
   "id": "2bbcce21",
   "metadata": {},
   "outputs": [],
   "source": [
    "from stable_baselines3 import PPO"
   ]
  },
  {
   "cell_type": "code",
   "execution_count": null,
   "id": "9a77acde-e8bf-4ef7-bc1a-a774203e0f62",
   "metadata": {},
   "outputs": [],
   "source": [
    "# for bypassing errors caused by Gym version differences when restoring environment objects.\n",
    "# Use custom_objects to ignore the problematic object\n",
    "model_ppo = PPO.load(\"250.zip\", env=env, custom_objects={\"action_space\": env.action_space,\n",
    "                    \"observation_space\":env.observation_space})"
   ]
  },
  {
   "cell_type": "markdown",
   "id": "d5ea924f",
   "metadata": {},
   "source": [
    "Test Run using Learned Model"
   ]
  },
  {
   "cell_type": "code",
   "execution_count": null,
   "id": "04e4a805",
   "metadata": {
    "scrolled": true
   },
   "outputs": [],
   "source": [
    "sim_start = time.time()\n",
    "n_episodes = final_episode\n",
    "l=0\n",
    "condition=0\n",
    "for episode in range(n_episodes):\n",
    "    print_episode=episode+1\n",
    "    state_up = env.reset()\n",
    "    done = False\n",
    "    score = 0\n",
    "    m=0\n",
    "    while not done:\n",
    "        action,_ = model_ppo.predict(state_up) #Predicting the actions based on the trained model\n",
    "        #action,_ = model_a2c.predict(state_up)\n",
    "        state_up, reward, done, info = env.step(action)\n",
    "        score += reward\n",
    "        if env.n_time % 100000 == 0: \n",
    "          print(f\"Episode {episode+1}: t={env.t:.2f}, reward={reward:.2f}\")\n",
    "        MI[m][l]=reward\n",
    "        m=m+1\n",
    "        \n",
    "    print(f\"Episode: {episode+1} has score: {score}\")\n",
    "    l=l+1\n",
    "    \n",
    "TIM = np.arange(env.del_t,sim_time+1,env.del_t).reshape(-1,1)\n",
    "np.savetxt('MI_vs_Time.csv',np.column_stack((TIM , MI)), delimiter='\\t') # Saving the reward for every episode\n",
    "sim_learn_time = time.time()-sim_start\n"
   ]
  },
  {
   "cell_type": "code",
   "execution_count": null,
   "id": "4b7ce480",
   "metadata": {},
   "outputs": [],
   "source": [
    "TIM = np.arange(env.del_t,sim_time+1,env.del_t).reshape(-1,1)\n",
    "np.savetxt('MI_vs_Time.csv',np.column_stack((TIM , MI)), delimiter='\\t') # Saving the reward for every episode\n",
    "sim_learn_time = time.time()-sim_start"
   ]
  },
  {
   "cell_type": "code",
   "execution_count": null,
   "id": "b33a789b",
   "metadata": {},
   "outputs": [],
   "source": []
  }
 ],
 "metadata": {
  "kernelspec": {
   "display_name": "Python 3 (ipykernel)",
   "language": "python",
   "name": "python3"
  },
  "language_info": {
   "codemirror_mode": {
    "name": "ipython",
    "version": 3
   },
   "file_extension": ".py",
   "mimetype": "text/x-python",
   "name": "python",
   "nbconvert_exporter": "python",
   "pygments_lexer": "ipython3",
   "version": "3.10.12"
  }
 },
 "nbformat": 4,
 "nbformat_minor": 5
}
